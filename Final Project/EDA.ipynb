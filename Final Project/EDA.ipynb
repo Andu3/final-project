{
 "cells": [
  {
   "cell_type": "code",
   "execution_count": 145,
   "id": "prescription-content",
   "metadata": {},
   "outputs": [
    {
     "name": "stdout",
     "output_type": "stream",
     "text": [
      "The autoreload extension is already loaded. To reload it, use:\n",
      "  %reload_ext autoreload\n"
     ]
    },
    {
     "name": "stderr",
     "output_type": "stream",
     "text": [
      "[autoreload of Models.MLP failed: Traceback (most recent call last):\n",
      "  File \"C:\\Users\\Andu\\anaconda3\\envs\\Tensorflow\\lib\\site-packages\\IPython\\extensions\\autoreload.py\", line 245, in check\n",
      "    superreload(m, reload, self.old_objects)\n",
      "  File \"C:\\Users\\Andu\\anaconda3\\envs\\Tensorflow\\lib\\site-packages\\IPython\\extensions\\autoreload.py\", line 394, in superreload\n",
      "    module = reload(module)\n",
      "  File \"C:\\Users\\Andu\\anaconda3\\envs\\Tensorflow\\lib\\imp.py\", line 314, in reload\n",
      "    return importlib.reload(module)\n",
      "  File \"C:\\Users\\Andu\\anaconda3\\envs\\Tensorflow\\lib\\importlib\\__init__.py\", line 169, in reload\n",
      "    _bootstrap._exec(spec, module)\n",
      "  File \"<frozen importlib._bootstrap>\", line 604, in _exec\n",
      "  File \"<frozen importlib._bootstrap_external>\", line 779, in exec_module\n",
      "  File \"<frozen importlib._bootstrap_external>\", line 916, in get_code\n",
      "  File \"<frozen importlib._bootstrap_external>\", line 846, in source_to_code\n",
      "  File \"<frozen importlib._bootstrap>\", line 219, in _call_with_frames_removed\n",
      "  File \"C:\\Users\\Andu\\Documents\\Final Project\\Models\\MLP.py\", line 73\n",
      "    print(\"Batch size is: \" batch_size)\n",
      "                            ^\n",
      "SyntaxError: invalid syntax\n",
      "]\n"
     ]
    }
   ],
   "source": [
    "%load_ext autoreload\n",
    "%autoreload"
   ]
  },
  {
   "cell_type": "code",
   "execution_count": 146,
   "id": "unknown-hamilton",
   "metadata": {},
   "outputs": [],
   "source": [
    "#check out plot_model\n",
    "#check out model.evaluate"
   ]
  },
  {
   "cell_type": "code",
   "execution_count": 147,
   "id": "hungarian-joseph",
   "metadata": {},
   "outputs": [],
   "source": [
    "from pathlib import Path\n",
    "import pandas as pd\n",
    "from pmdarima.arima import auto_arima\n",
    "\n",
    "\n",
    "IBBmonth = Path.cwd() / \"data\" / \"Raw\" / \"IBBmonth.csv\"\n",
    "data_t = pd.read_csv(IBBmonth, usecols=[0,4], parse_dates=[0], header=0)"
   ]
  },
  {
   "cell_type": "code",
   "execution_count": 148,
   "id": "sufficient-cause",
   "metadata": {},
   "outputs": [],
   "source": [
    "from Models.ARIMA import *\n",
    "from Models.Helper import *\n",
    "from Data.Raw import *\n",
    "from Models.MLP import *"
   ]
  },
  {
   "cell_type": "code",
   "execution_count": 149,
   "id": "junior-jackson",
   "metadata": {},
   "outputs": [
    {
     "name": "stdout",
     "output_type": "stream",
     "text": [
      "Estimated differencing term: 1\n"
     ]
    }
   ],
   "source": [
    "n_diffs = find_differencing(data_t['Close'].values)"
   ]
  },
  {
   "cell_type": "code",
   "execution_count": 150,
   "id": "directed-income",
   "metadata": {},
   "outputs": [
    {
     "data": {
      "text/html": [
       "<div>\n",
       "<style scoped>\n",
       "    .dataframe tbody tr th:only-of-type {\n",
       "        vertical-align: middle;\n",
       "    }\n",
       "\n",
       "    .dataframe tbody tr th {\n",
       "        vertical-align: top;\n",
       "    }\n",
       "\n",
       "    .dataframe thead th {\n",
       "        text-align: right;\n",
       "    }\n",
       "</style>\n",
       "<table border=\"1\" class=\"dataframe\">\n",
       "  <thead>\n",
       "    <tr style=\"text-align: right;\">\n",
       "      <th></th>\n",
       "      <th>Date</th>\n",
       "      <th>Close</th>\n",
       "    </tr>\n",
       "  </thead>\n",
       "  <tbody>\n",
       "    <tr>\n",
       "      <th>0</th>\n",
       "      <td>2020-01-02</td>\n",
       "      <td>119.889999</td>\n",
       "    </tr>\n",
       "    <tr>\n",
       "      <th>1</th>\n",
       "      <td>2020-01-03</td>\n",
       "      <td>118.360001</td>\n",
       "    </tr>\n",
       "    <tr>\n",
       "      <th>2</th>\n",
       "      <td>2020-01-06</td>\n",
       "      <td>119.120003</td>\n",
       "    </tr>\n",
       "    <tr>\n",
       "      <th>3</th>\n",
       "      <td>2020-01-07</td>\n",
       "      <td>119.150002</td>\n",
       "    </tr>\n",
       "    <tr>\n",
       "      <th>4</th>\n",
       "      <td>2020-01-08</td>\n",
       "      <td>120.220001</td>\n",
       "    </tr>\n",
       "  </tbody>\n",
       "</table>\n",
       "</div>"
      ],
      "text/plain": [
       "        Date       Close\n",
       "0 2020-01-02  119.889999\n",
       "1 2020-01-03  118.360001\n",
       "2 2020-01-06  119.120003\n",
       "3 2020-01-07  119.150002\n",
       "4 2020-01-08  120.220001"
      ]
     },
     "execution_count": 150,
     "metadata": {},
     "output_type": "execute_result"
    }
   ],
   "source": [
    "data_t.head()"
   ]
  },
  {
   "cell_type": "code",
   "execution_count": 151,
   "id": "fourth-friendship",
   "metadata": {},
   "outputs": [
    {
     "name": "stdout",
     "output_type": "stream",
     "text": [
      "Number of training samples: 183\n",
      "Number of testing samples: 91\n"
     ]
    }
   ],
   "source": [
    "#Split dataset\n",
    "\n",
    "def split_data(data, training_size):\n",
    "    if training_size < 0 or training_size > 1:\n",
    "        raise ValueError(\"Please use a value between 0 and 1 to split the dataset. Recommended values for the size of the training dataset are: 0.50, 0.67, 0.80.\")\n",
    "    train_data, test_data = data[0:int(len(data)*training_size)], data[int(len(data)*training_size):]\n",
    "    \n",
    "    train_data = train_data['Close'].values\n",
    "    test_data = test_data['Close'].values\n",
    "    \n",
    "    print(\"Number of training samples:\", len(train_data))\n",
    "    print(\"Number of testing samples:\", len(test_data))\n",
    "    return training_size, train_data, test_data\n",
    "    \n",
    "    \n",
    "split_ratio, train_data, test_data = split_data(data_t, 0.67)"
   ]
  },
  {
   "cell_type": "code",
   "execution_count": 152,
   "id": "paperback-guitar",
   "metadata": {},
   "outputs": [
    {
     "name": "stdout",
     "output_type": "stream",
     "text": [
      "Performing stepwise search to minimize aic\n",
      " ARIMA(0,1,0)(0,0,0)[0] intercept   : AIC=877.706, Time=0.01 sec\n",
      " ARIMA(1,1,0)(0,0,0)[0] intercept   : AIC=865.102, Time=0.01 sec\n",
      " ARIMA(0,1,1)(0,0,0)[0] intercept   : AIC=868.316, Time=0.02 sec\n",
      " ARIMA(0,1,0)(0,0,0)[0]             : AIC=875.856, Time=0.01 sec\n",
      " ARIMA(2,1,0)(0,0,0)[0] intercept   : AIC=865.138, Time=0.03 sec\n",
      " ARIMA(1,1,1)(0,0,0)[0] intercept   : AIC=865.880, Time=0.04 sec\n",
      " ARIMA(2,1,1)(0,0,0)[0] intercept   : AIC=866.875, Time=0.06 sec\n",
      " ARIMA(1,1,0)(0,0,0)[0]             : AIC=863.372, Time=0.01 sec\n",
      " ARIMA(2,1,0)(0,0,0)[0]             : AIC=863.347, Time=0.02 sec\n",
      " ARIMA(3,1,0)(0,0,0)[0]             : AIC=864.721, Time=0.02 sec\n",
      " ARIMA(2,1,1)(0,0,0)[0]             : AIC=865.067, Time=0.04 sec\n",
      " ARIMA(1,1,1)(0,0,0)[0]             : AIC=864.122, Time=0.02 sec\n",
      " ARIMA(3,1,1)(0,0,0)[0]             : AIC=858.165, Time=0.07 sec\n",
      " ARIMA(4,1,1)(0,0,0)[0]             : AIC=859.347, Time=0.10 sec\n",
      " ARIMA(3,1,2)(0,0,0)[0]             : AIC=854.228, Time=0.18 sec\n",
      " ARIMA(2,1,2)(0,0,0)[0]             : AIC=852.330, Time=0.11 sec\n",
      " ARIMA(1,1,2)(0,0,0)[0]             : AIC=864.686, Time=0.02 sec\n",
      " ARIMA(2,1,3)(0,0,0)[0]             : AIC=868.684, Time=0.05 sec\n",
      " ARIMA(1,1,3)(0,0,0)[0]             : AIC=866.684, Time=0.04 sec\n",
      " ARIMA(3,1,3)(0,0,0)[0]             : AIC=inf, Time=0.24 sec\n",
      " ARIMA(2,1,2)(0,0,0)[0] intercept   : AIC=854.114, Time=0.15 sec\n",
      "\n",
      "Best model:  ARIMA(2,1,2)(0,0,0)[0]          \n",
      "Total fit time: 1.228 seconds\n",
      " ARIMA(2,1,2)(0,0,0)[0]          \n",
      "(2, 1, 2)\n"
     ]
    }
   ],
   "source": [
    "arima_model_test =  auto_arima(train_data,start_p=0, d=n_diffs, start_q=0, \n",
    "                          max_p=5, max_d=5, max_q=5, start_P=0, \n",
    "                          D=0, start_Q=0, max_P=5, max_D=5,\n",
    "                          max_Q=5, seasonal_test='ocsb', error_action='warn',trace = True,\n",
    "                          supress_warnings=True,stepwise = True,\n",
    "                          random_state=None, n_fits = 50)\n",
    "\n",
    "\n",
    "print(arima_model_test)\n",
    "print(arima_model_test.order)"
   ]
  },
  {
   "cell_type": "code",
   "execution_count": 153,
   "id": "through-bubble",
   "metadata": {},
   "outputs": [],
   "source": [
    "#model_predictions = stepwise_ARIMA(train_data, test_data, arima_model_test.order)"
   ]
  },
  {
   "cell_type": "code",
   "execution_count": 154,
   "id": "informed-terrorism",
   "metadata": {},
   "outputs": [],
   "source": [
    "#print(\"Error measures for ARIMA:\")\n",
    "#calculate_error_measures(test_data, model_predictions)"
   ]
  },
  {
   "cell_type": "code",
   "execution_count": 155,
   "id": "altered-poison",
   "metadata": {},
   "outputs": [
    {
     "name": "stdout",
     "output_type": "stream",
     "text": [
      "[ 1.00000000e+00  9.78591841e-01  9.63815042e-01  9.46073129e-01\n",
      "  9.29495533e-01  9.14230055e-01  8.94023465e-01  8.77252433e-01\n",
      "  8.56885005e-01  8.44011994e-01  8.22266472e-01  8.04271429e-01\n",
      "  7.87560194e-01  7.67662842e-01  7.53503741e-01  7.37009113e-01\n",
      "  7.23335893e-01  7.03446952e-01  6.86041846e-01  6.70455696e-01\n",
      "  6.54233576e-01  6.38323070e-01  6.18620739e-01  6.03167918e-01\n",
      "  5.89876843e-01  5.76517566e-01  5.63325285e-01  5.51244998e-01\n",
      "  5.40099292e-01  5.26317847e-01  5.12270589e-01  4.97663140e-01\n",
      "  4.84141252e-01  4.71049413e-01  4.55809554e-01  4.43610310e-01\n",
      "  4.31072128e-01  4.19115058e-01  4.05933114e-01  3.92631619e-01\n",
      "  3.82471437e-01  3.71929356e-01  3.64339634e-01  3.56686480e-01\n",
      "  3.47476922e-01  3.38818709e-01  3.29640300e-01  3.24281559e-01\n",
      "  3.13095324e-01  3.01872258e-01  2.88815605e-01  2.73153567e-01\n",
      "  2.57772495e-01  2.40072112e-01  2.24926561e-01  2.09230028e-01\n",
      "  1.95383076e-01  1.84240774e-01  1.74156450e-01  1.65134753e-01\n",
      "  1.52209887e-01  1.40929482e-01  1.30749994e-01  1.22667200e-01\n",
      "  1.11696296e-01  9.89415457e-02  8.98822948e-02  7.69569665e-02\n",
      "  6.63092882e-02  5.31901630e-02  4.29562367e-02  3.25594836e-02\n",
      "  2.03916408e-02  9.69884791e-03  7.10991758e-04 -4.93879703e-03\n",
      " -1.51289767e-02 -2.65316345e-02 -3.83583277e-02 -4.79555914e-02\n",
      " -5.81034025e-02 -6.81663273e-02 -7.31050839e-02 -7.93553134e-02\n",
      " -7.92449358e-02 -8.26759146e-02 -8.33044558e-02 -8.01420142e-02\n",
      " -7.95816737e-02 -7.65860359e-02 -6.76805344e-02 -5.92774616e-02\n",
      " -5.60481041e-02 -5.00561355e-02 -4.59932731e-02 -4.15450337e-02\n",
      " -3.70314631e-02 -3.52887814e-02 -3.22774082e-02 -2.26507122e-02\n",
      " -1.38012345e-02 -7.66302482e-03  2.71051992e-03  1.42852113e-02\n",
      "  2.39011666e-02  2.66673548e-02  3.00523344e-02  2.96362388e-02\n",
      "  3.19054521e-02  3.34861482e-02  3.50898151e-02  3.70533359e-02\n",
      "  3.74769062e-02  3.61237609e-02  3.44041988e-02  3.67090276e-02\n",
      "  3.62836903e-02  3.48403579e-02  3.73291188e-02  3.90153573e-02\n",
      "  4.26184467e-02  4.27794883e-02  4.23796522e-02  4.03168282e-02\n",
      "  3.81182880e-02  3.20818615e-02  2.44334570e-02  1.55227072e-02\n",
      "  9.02064075e-03  3.65656673e-04 -6.47438726e-03 -1.24250176e-02\n",
      " -2.18940526e-02 -2.38980516e-02 -3.03745686e-02 -3.92920325e-02\n",
      " -4.83296832e-02 -6.21111180e-02 -7.46386359e-02 -8.33844255e-02\n",
      " -9.35540915e-02 -1.08595832e-01 -1.14841869e-01 -1.24652121e-01\n",
      " -1.33961920e-01 -1.45801477e-01 -1.56814280e-01 -1.69369899e-01\n",
      " -1.79620057e-01 -1.86906588e-01 -1.97174561e-01 -1.99666881e-01\n",
      " -2.06523454e-01 -2.14870101e-01 -2.26171584e-01 -2.43134204e-01\n",
      " -2.62789176e-01 -2.83852937e-01 -2.97024372e-01 -3.13046916e-01\n",
      " -3.26650331e-01 -3.40889855e-01 -3.51518004e-01 -3.65494485e-01\n",
      " -3.88355836e-01 -4.11463907e-01 -4.35382179e-01 -4.53939348e-01\n",
      " -4.76093313e-01 -4.99425418e-01 -5.26048394e-01 -5.57878638e-01\n",
      " -5.96279229e-01 -6.32831745e-01 -6.72505715e-01 -7.13333395e-01\n",
      " -7.56353543e-01 -7.92633753e-01 -8.29254501e-01 -8.66602784e-01\n",
      " -9.06594871e-01 -9.44852344e-01 -9.74824555e-01 -1.00600999e+00\n",
      " -1.04503063e+00 -1.08646073e+00 -1.11775164e+00 -1.14333586e+00\n",
      " -1.17640479e+00 -1.20827048e+00 -1.24165317e+00 -1.26996521e+00\n",
      " -1.30126030e+00 -1.33696308e+00 -1.36438286e+00 -1.40131903e+00\n",
      " -1.42935878e+00 -1.45403553e+00 -1.47595168e+00 -1.49931139e+00\n",
      " -1.53274369e+00 -1.56435474e+00 -1.58751148e+00 -1.60325298e+00\n",
      " -1.63384647e+00 -1.65453015e+00 -1.67840164e+00 -1.69900448e+00\n",
      " -1.71540898e+00 -1.74062302e+00 -1.74817729e+00 -1.76370584e+00\n",
      " -1.76305474e+00 -1.77248325e+00 -1.77003938e+00 -1.75987019e+00\n",
      " -1.75858652e+00 -1.74276429e+00 -1.72962159e+00 -1.69485602e+00\n",
      " -1.66057708e+00 -1.62730850e+00 -1.59360109e+00 -1.56641128e+00\n",
      " -1.51898221e+00 -1.50285542e+00 -1.46141629e+00 -1.44507116e+00\n",
      " -1.44289202e+00 -1.42662587e+00 -1.42561771e+00 -1.43212296e+00\n",
      " -1.44773471e+00 -1.44401701e+00 -1.45654091e+00 -1.45016139e+00\n",
      " -1.44377709e+00 -1.45213494e+00 -1.45696647e+00 -1.47236199e+00\n",
      " -1.50406000e+00 -1.53423925e+00 -1.56511103e+00 -1.59278762e+00\n",
      " -1.61619690e+00 -1.63662378e+00 -1.66093945e+00 -1.68191123e+00\n",
      " -1.69889914e+00 -1.71075688e+00 -1.73875041e+00 -1.77182520e+00\n",
      " -1.78690007e+00 -1.78529600e+00 -1.77503446e+00 -1.77869172e+00\n",
      " -1.79062603e+00 -1.78801476e+00 -1.77045453e+00 -1.75980883e+00\n",
      " -1.77585455e+00 -1.79868986e+00 -1.80573286e+00 -1.83492146e+00\n",
      " -1.86002658e+00 -1.87938072e+00 -1.90088515e+00 -1.86948418e+00\n",
      " -1.83024973e+00 -1.84012405e+00 -1.90158873e+00 -1.94054576e+00\n",
      " -2.00495185e+00 -1.94434344e+00]\n",
      "6\n"
     ]
    },
    {
     "data": {
      "image/png": "[encoded data removed]",
      "text/plain": [
       "<Figure size 504x360 with 1 Axes>"
      ]
     },
     "metadata": {
      "needs_background": "light"
     },
     "output_type": "display_data"
    }
   ],
   "source": [
    "batch_size = find_batch_size(data_t['Close'])"
   ]
  },
  {
   "cell_type": "code",
   "execution_count": 156,
   "id": "sunset-tracy",
   "metadata": {},
   "outputs": [
    {
     "data": {
      "text/plain": [
       "(269, 6)"
      ]
     },
     "execution_count": 156,
     "metadata": {},
     "output_type": "execute_result"
    }
   ],
   "source": [
    "data_close = pd.DataFrame(data_t['Close'])\n",
    "data_close.index = pd.to_datetime(data_t['Date'])\n",
    "\n",
    "list_of_attributes = ['Close']\n",
    "\n",
    "list_of_prev_t_instants = []\n",
    "for i in range(1, batch_size):\n",
    "    list_of_prev_t_instants.append(i)\n",
    "\n",
    "\n",
    "df_new = create_regressor_attributes(data_close, list_of_attributes, list_of_prev_t_instants)\n",
    "df_new.head()\n",
    "df_new.shape"
   ]
  },
  {
   "cell_type": "code",
   "execution_count": null,
   "id": "abroad-superintendent",
   "metadata": {},
   "outputs": [],
   "source": []
  }
 ],
 "metadata": {
  "kernelspec": {
   "display_name": "Python 3",
   "language": "python",
   "name": "python3"
  },
  "language_info": {
   "codemirror_mode": {
    "name": "ipython",
    "version": 3
   },
   "file_extension": ".py",
   "mimetype": "text/x-python",
   "name": "python",
   "nbconvert_exporter": "python",
   "pygments_lexer": "ipython3",
   "version": "3.8.5"
  }
 },
 "nbformat": 4,
 "nbformat_minor": 5
}
